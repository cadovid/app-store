{
 "cells": [
  {
   "cell_type": "markdown",
   "metadata": {},
   "source": [
    "## Profitable App Profiles for the App Store and Google Play Markets\n",
    "\n",
    "In this project the main purpose is to analyze and explore the volume of apps currently available in both the two main app markets of the world: _App Store_ and _Google Play_.\n",
    "\n",
    "With this information, it will be possible to extract valuable information about the most user-attractive apps, which can help in an early state of development for an app."
   ]
  },
  {
   "cell_type": "markdown",
   "metadata": {},
   "source": [
    "### Opening and exploring Data"
   ]
  },
  {
   "cell_type": "code",
   "execution_count": 4,
   "metadata": {
    "collapsed": true
   },
   "outputs": [],
   "source": [
    "# Function to open the data sets as header and the rest of rows separately #\n",
    "\n",
    "def open_dataset(dataset):\n",
    "    from csv import reader\n",
    "    opened_file = open(dataset)\n",
    "    read_file = reader(opened_file)\n",
    "    data_set = list(read_file)\n",
    "    return data_set[0], data_set[1:]\n",
    "\n",
    "header_apple, apps_data_apple = open_dataset('AppleStore.csv')\n",
    "header_google, apps_data_google = open_dataset('googleplaystore.csv')"
   ]
  },
  {
   "cell_type": "code",
   "execution_count": 5,
   "metadata": {
    "collapsed": false
   },
   "outputs": [],
   "source": [
    "# Function to explore the data. The dataset here must be introduced without headers #\n",
    "\n",
    "def explore_data(dataset, start, end, rows_and_columns=False):\n",
    "    dataset_slice = dataset[start:end]    \n",
    "    for row in dataset_slice:\n",
    "        print(row)\n",
    "        print('\\n') # adds a new (empty) line after each row\n",
    "\n",
    "    if rows_and_columns:\n",
    "        print('Number of rows:', len(dataset))\n",
    "        print('Number of columns:', len(dataset[0]))\n",
    "        \n",
    "#explore_data(apps_data_apple, 0, 5, True)\n",
    "#explore_data(apps_data_google, 0, 5, True)"
   ]
  },
  {
   "cell_type": "code",
   "execution_count": 6,
   "metadata": {
    "collapsed": false
   },
   "outputs": [
    {
     "name": "stdout",
     "output_type": "stream",
     "text": [
      "['id', 'track_name', 'size_bytes', 'currency', 'price', 'rating_count_tot', 'rating_count_ver', 'user_rating', 'user_rating_ver', 'ver', 'cont_rating', 'prime_genre', 'sup_devices.num', 'ipadSc_urls.num', 'lang.num', 'vpp_lic']\n",
      "['App', 'Category', 'Rating', 'Reviews', 'Size', 'Installs', 'Type', 'Price', 'Content Rating', 'Genres', 'Last Updated', 'Current Ver', 'Android Ver']\n"
     ]
    }
   ],
   "source": [
    "# Information about the columns of the dataset #\n",
    "print(header_apple)\n",
    "print(header_google)"
   ]
  },
  {
   "cell_type": "markdown",
   "metadata": {},
   "source": [
    "More information about the datasets and a description of what contains each column inside them can be obtained in the following links:\n",
    "- [Google Play Market](https://www.kaggle.com/lava18/google-play-store-apps)\n",
    "- [Apple Store](https://www.kaggle.com/ramamet4/app-store-apple-data-set-10k-apps)"
   ]
  },
  {
   "cell_type": "markdown",
   "metadata": {},
   "source": [
    "### Data cleaning\n",
    "\n",
    "For the main purposes of our analysis, a cleaning of the data is necessary to be accomplished. For that, our efforts will be centered to:\n",
    "\n",
    "- Remove non-English apps.\n",
    "- Remove non-free apps.\n",
    "- Detect other inaccurate data.\n",
    "- Detect duplicated data."
   ]
  },
  {
   "cell_type": "code",
   "execution_count": 7,
   "metadata": {
    "collapsed": false
   },
   "outputs": [
    {
     "name": "stdout",
     "output_type": "stream",
     "text": [
      "['Life Made WI-Fi Touchscreen Photo Frame', '1.9', '19', '3.0M', '1,000+', 'Free', '0', 'Everyone', '', 'February 11, 2018', '1.0.19', '4.0 and up']\n",
      "10472\n"
     ]
    }
   ],
   "source": [
    "# Detection of inaccurate/uncompleted data #\n",
    "\n",
    "def detect(dataset, header):\n",
    "    for row in dataset: \n",
    "        if len(row) != len(header):\n",
    "            print(row)\n",
    "            print(dataset.index(row))\n",
    "        \n",
    "detect(apps_data_google, header_google)\n",
    "detect(apps_data_apple, header_apple)\n"
   ]
  },
  {
   "cell_type": "code",
   "execution_count": 8,
   "metadata": {
    "collapsed": true
   },
   "outputs": [],
   "source": [
    "# Deletion of wrong data #\n",
    "\n",
    "def delete(dataset, index):\n",
    "    del dataset[index]\n",
    "\n",
    "delete(apps_data_google, 10472)"
   ]
  },
  {
   "cell_type": "code",
   "execution_count": 9,
   "metadata": {
    "collapsed": false
   },
   "outputs": [
    {
     "name": "stdout",
     "output_type": "stream",
     "text": [
      "Number of duplicated entries:  1181\n",
      "Examples of duplicated entries:  ['Quick PDF Scanner + OCR FREE', 'Box', 'Google My Business', 'ZOOM Cloud Meetings', 'join.me - Simple Meetings', 'Box', 'Zenefits', 'Google Ads', 'Google My Business', 'Slack', 'FreshBooks Classic', 'Insightly CRM', 'QuickBooks Accounting: Invoicing & Expenses', 'HipChat - Chat Built for Teams', 'Xero Accounting Software']\n",
      "Number of duplicated entries:  0\n",
      "Examples of duplicated entries:  []\n"
     ]
    }
   ],
   "source": [
    "# Detection of duplicated entries #\n",
    "\n",
    "def duplicated(dataset, index):\n",
    "    duplicated_apps = []\n",
    "    unique_apps = []\n",
    "    for row in dataset:\n",
    "        name = row[index]\n",
    "        if name in unique_apps:\n",
    "            duplicated_apps.append(name)\n",
    "        else:\n",
    "            unique_apps.append(name)\n",
    "    print('Number of duplicated entries: ', len(duplicated_apps))\n",
    "    print('Examples of duplicated entries: ', duplicated_apps[:15])\n",
    "\n",
    "duplicated(apps_data_google, 0)\n",
    "duplicated(apps_data_apple, 0)\n",
    "    "
   ]
  },
  {
   "cell_type": "markdown",
   "metadata": {},
   "source": [
    "The condition to remove the duplicated entries is the following: keep the most updated row, that is, the one with the higher number of reviews. "
   ]
  },
  {
   "cell_type": "code",
   "execution_count": 10,
   "metadata": {
    "collapsed": true
   },
   "outputs": [],
   "source": [
    "# Deletion of duplicated data #\n",
    "\n",
    "def delete_duplicated(dataset, index_name, index_review_number):\n",
    "    reviews_max = {}\n",
    "    for row in dataset:\n",
    "        name = row[index_name]\n",
    "        n_reviews = row[index_review_number]\n",
    "        if name in reviews_max and reviews_max[name] < n_reviews:\n",
    "            reviews_max[name] = n_reviews\n",
    "        elif name not in reviews_max:\n",
    "            reviews_max[name] = n_reviews\n",
    "    \n",
    "    dataset_clean = []\n",
    "    already_added = []\n",
    "    for row in dataset:\n",
    "        name = row[index_name]\n",
    "        n_reviews = row[index_review_number]\n",
    "        if (reviews_max[name] == n_reviews) and (name not in already_added):\n",
    "            dataset_clean.append(row)\n",
    "            already_added.append(name) # make sure this is inside the if block\n",
    "    return dataset_clean\n",
    "\n",
    "apps_data_google_cl = delete_duplicated(apps_data_google, 0, 3)\n",
    "apps_data_apple_cl = delete_duplicated(apps_data_apple, 0, 5)"
   ]
  },
  {
   "cell_type": "code",
   "execution_count": 11,
   "metadata": {
    "collapsed": false
   },
   "outputs": [
    {
     "name": "stdout",
     "output_type": "stream",
     "text": [
      "Number of rows Google Play dataset:  9659\n",
      "Number of rows Apple Store dataset:  7197\n"
     ]
    }
   ],
   "source": [
    "print('Number of rows Google Play dataset: ', len(apps_data_google_cl))\n",
    "print('Number of rows Apple Store dataset: ', len(apps_data_apple_cl))"
   ]
  },
  {
   "cell_type": "markdown",
   "metadata": {},
   "source": [
    "We proceed now to remove the non-English apps from each of the stores."
   ]
  },
  {
   "cell_type": "code",
   "execution_count": 12,
   "metadata": {
    "collapsed": false
   },
   "outputs": [],
   "source": [
    "# Detection of non_English apps #\n",
    "\n",
    "def check_string(a_str):\n",
    "    count = 0\n",
    "    for character in a_str:\n",
    "        number = ord(character) # return an integer representing the Unicode code point of that character\n",
    "        if number > 127:\n",
    "            count += 1\n",
    "    if count > 3:\n",
    "        return False\n",
    "    return True\n",
    "        \n",
    "#print(check_string('Instagram'))\n",
    "#print(check_string('爱奇艺PPS -《欢乐颂2》电视剧热播'))\n",
    "#print(check_string('Docs To Go™ Free Office Suite'))\n",
    "#print(check_string('Instachat 😜'))\n",
    "\n",
    "# Deletion of non-English apps #\n",
    "\n",
    "def filter_non_en(dataset, index_name):\n",
    "    data = []\n",
    "    for row in dataset:\n",
    "        name = row[index_name]\n",
    "        is_english = check_string(name)\n",
    "        if is_english:\n",
    "            data.append(row)\n",
    "    return data\n",
    "\n",
    "apps_data_google_gd = filter_non_en(apps_data_google_cl, 0)\n",
    "apps_data_apple_gd = filter_non_en(apps_data_apple_cl, 1)"
   ]
  },
  {
   "cell_type": "code",
   "execution_count": 13,
   "metadata": {
    "collapsed": false
   },
   "outputs": [
    {
     "name": "stdout",
     "output_type": "stream",
     "text": [
      "Number of rows Google Play dataset:  9614\n",
      "Number of rows Apple Store dataset:  6183\n"
     ]
    }
   ],
   "source": [
    "print('Number of rows Google Play dataset: ', len(apps_data_google_gd))\n",
    "print('Number of rows Apple Store dataset: ', len(apps_data_apple_gd))"
   ]
  },
  {
   "cell_type": "markdown",
   "metadata": {},
   "source": [
    "Now, the focus is to remove the non-free apps from both of the stores."
   ]
  },
  {
   "cell_type": "code",
   "execution_count": 14,
   "metadata": {
    "collapsed": false
   },
   "outputs": [],
   "source": [
    "# Deletion of non-free apps #\n",
    "\n",
    "def filter_non_free(dataset, index_price):\n",
    "    dataset_clean = []\n",
    "    for row in dataset:\n",
    "        price = row[index_price]\n",
    "        if price == '0' or price == '0.0':\n",
    "            dataset_clean.append(row)\n",
    "    return dataset_clean\n",
    "\n",
    "apps_data_google_final = filter_non_free(apps_data_google_gd, 7)\n",
    "apps_data_apple_final = filter_non_free(apps_data_apple_gd, 4)"
   ]
  },
  {
   "cell_type": "code",
   "execution_count": 15,
   "metadata": {
    "collapsed": false
   },
   "outputs": [
    {
     "name": "stdout",
     "output_type": "stream",
     "text": [
      "Number of rows Google Play dataset:  8862\n",
      "Number of rows Apple Store dataset:  3222\n"
     ]
    }
   ],
   "source": [
    "print('Number of rows Google Play dataset: ', len(apps_data_google_final))\n",
    "print('Number of rows Apple Store dataset: ', len(apps_data_apple_final))"
   ]
  },
  {
   "cell_type": "markdown",
   "metadata": {
    "collapsed": true
   },
   "source": [
    "### Analyzing Data\n",
    "\n",
    "Our main purpose on this project is to determine the kinds of apps that are likely to attract more users because the revenue is highly influenced by the number of people using the apps.\n",
    "\n",
    "With that in mind, it is possible to start the analysis by getting a sense of what are the most common genres for each market. For this, it will be necessary to build frequency tables for a few columns in the data sets.\n",
    "\n",
    "#### Most Common Apps by Genre"
   ]
  },
  {
   "cell_type": "code",
   "execution_count": 18,
   "metadata": {
    "collapsed": false
   },
   "outputs": [
    {
     "name": "stdout",
     "output_type": "stream",
     "text": [
      "The frequency table for the most common genres in the Apple Store is:\n",
      "\n",
      "Games : 58.16263190564867\n",
      "Entertainment : 7.883302296710118\n",
      "Photo & Video : 4.9658597144630665\n",
      "Education : 3.662321539416512\n",
      "Social Networking : 3.2898820608317814\n",
      "Shopping : 2.60707635009311\n",
      "Utilities : 2.5139664804469275\n",
      "Sports : 2.1415270018621975\n",
      "Music : 2.0484171322160147\n",
      "Health & Fitness : 2.0173805090006205\n",
      "Productivity : 1.7380509000620732\n",
      "Lifestyle : 1.5828677839851024\n",
      "News : 1.3345747982619491\n",
      "Travel : 1.2414649286157666\n",
      "Finance : 1.1173184357541899\n",
      "Weather : 0.8690254500310366\n",
      "Food & Drink : 0.8069522036002483\n",
      "Reference : 0.5586592178770949\n",
      "Business : 0.5276225946617008\n",
      "Book : 0.4345127250155183\n",
      "Navigation : 0.186219739292365\n",
      "Medical : 0.186219739292365\n",
      "Catalogs : 0.12414649286157665\n",
      "\n",
      "\n",
      "The frequency table for the most common genres in the Google Play Store is:\n",
      "\n",
      "Tools : 8.440532611148726\n",
      "Entertainment : 6.070864364703228\n",
      "Education : 5.348679756262695\n",
      "Business : 4.5926427443015125\n",
      "Productivity : 3.8930264048747465\n",
      "Lifestyle : 3.8930264048747465\n",
      "Finance : 3.7011961182577298\n",
      "Medical : 3.5206499661475967\n",
      "Sports : 3.4642292936131795\n",
      "Personalization : 3.3175355450236967\n",
      "Communication : 3.238546603475513\n",
      "Action : 3.1031369893929135\n",
      "Health & Fitness : 3.080568720379147\n",
      "Photography : 2.945159106296547\n",
      "News & Magazines : 2.798465357707064\n",
      "Social : 2.663055743624464\n",
      "Travel & Local : 2.324531708417964\n",
      "Shopping : 2.2455427668697814\n",
      "Books & Reference : 2.143985556307831\n",
      "Simulation : 2.0424283457458814\n",
      "Dating : 1.8618821936357481\n",
      "Arcade : 1.8505980591288649\n",
      "Video Players & Editors : 1.7716091175806816\n",
      "Casual : 1.7490408485669149\n",
      "Maps & Navigation : 1.399232678853532\n",
      "Food & Drink : 1.2412547957571656\n",
      "Puzzle : 1.128413450688332\n",
      "Racing : 0.9930038366057323\n",
      "Role Playing : 0.9365831640713158\n",
      "Libraries & Demo : 0.9365831640713158\n",
      "Auto & Vehicles : 0.9252990295644324\n",
      "Strategy : 0.9140148950575491\n",
      "House & Home : 0.8237418190024826\n",
      "Weather : 0.8011735499887158\n",
      "Events : 0.7109004739336493\n",
      "Adventure : 0.6770480704129994\n",
      "Comics : 0.6093432633716994\n",
      "Beauty : 0.598059128864816\n",
      "Art & Design : 0.598059128864816\n",
      "Parenting : 0.49650191830286616\n",
      "Card : 0.4400812457684496\n",
      "Casino : 0.4287971112615662\n",
      "Trivia : 0.41751297675468296\n",
      "Educational;Education : 0.3949447077409162\n",
      "Educational : 0.3723764387271496\n",
      "Board : 0.3723764387271496\n",
      "Education;Education : 0.3385240352064997\n",
      "Word : 0.2595350936583164\n",
      "Casual;Pretend Play : 0.23696682464454977\n",
      "Music : 0.2031144211238998\n",
      "Puzzle;Brain Games : 0.18054615211013314\n",
      "Racing;Action & Adventure : 0.16926201760324985\n",
      "Entertainment;Music & Video : 0.16926201760324985\n",
      "Casual;Brain Games : 0.13540961408259986\n",
      "Casual;Action & Adventure : 0.13540961408259986\n",
      "Arcade;Action & Adventure : 0.12412547957571654\n",
      "Action;Action & Adventure : 0.1015572105619499\n",
      "Educational;Pretend Play : 0.09027307605506657\n",
      "Board;Brain Games : 0.09027307605506657\n",
      "Simulation;Action & Adventure : 0.07898894154818326\n",
      "Parenting;Education : 0.07898894154818326\n",
      "Entertainment;Brain Games : 0.07898894154818326\n",
      "Parenting;Music & Video : 0.06770480704129993\n",
      "Educational;Brain Games : 0.06770480704129993\n",
      "Casual;Creativity : 0.06770480704129993\n",
      "Art & Design;Creativity : 0.06770480704129993\n",
      "Education;Pretend Play : 0.056420672534416606\n",
      "Role Playing;Pretend Play : 0.045136538027533285\n",
      "Education;Creativity : 0.045136538027533285\n",
      "Role Playing;Action & Adventure : 0.033852403520649964\n",
      "Puzzle;Action & Adventure : 0.033852403520649964\n",
      "Entertainment;Creativity : 0.033852403520649964\n",
      "Entertainment;Action & Adventure : 0.033852403520649964\n",
      "Educational;Creativity : 0.033852403520649964\n",
      "Educational;Action & Adventure : 0.033852403520649964\n",
      "Education;Music & Video : 0.033852403520649964\n",
      "Education;Brain Games : 0.033852403520649964\n",
      "Education;Action & Adventure : 0.033852403520649964\n",
      "Adventure;Action & Adventure : 0.033852403520649964\n",
      "Video Players & Editors;Music & Video : 0.022568269013766643\n",
      "Sports;Action & Adventure : 0.022568269013766643\n",
      "Simulation;Pretend Play : 0.022568269013766643\n",
      "Puzzle;Creativity : 0.022568269013766643\n",
      "Music;Music & Video : 0.022568269013766643\n",
      "Entertainment;Pretend Play : 0.022568269013766643\n",
      "Casual;Education : 0.022568269013766643\n",
      "Board;Action & Adventure : 0.022568269013766643\n",
      "Video Players & Editors;Creativity : 0.011284134506883321\n",
      "Trivia;Education : 0.011284134506883321\n",
      "Travel & Local;Action & Adventure : 0.011284134506883321\n",
      "Tools;Education : 0.011284134506883321\n",
      "Strategy;Education : 0.011284134506883321\n",
      "Strategy;Creativity : 0.011284134506883321\n",
      "Strategy;Action & Adventure : 0.011284134506883321\n",
      "Simulation;Education : 0.011284134506883321\n",
      "Role Playing;Brain Games : 0.011284134506883321\n",
      "Racing;Pretend Play : 0.011284134506883321\n",
      "Puzzle;Education : 0.011284134506883321\n",
      "Parenting;Brain Games : 0.011284134506883321\n",
      "Music & Audio;Music & Video : 0.011284134506883321\n",
      "Lifestyle;Pretend Play : 0.011284134506883321\n",
      "Lifestyle;Education : 0.011284134506883321\n",
      "Health & Fitness;Education : 0.011284134506883321\n",
      "Health & Fitness;Action & Adventure : 0.011284134506883321\n",
      "Entertainment;Education : 0.011284134506883321\n",
      "Communication;Creativity : 0.011284134506883321\n",
      "Comics;Creativity : 0.011284134506883321\n",
      "Casual;Music & Video : 0.011284134506883321\n",
      "Card;Brain Games : 0.011284134506883321\n",
      "Card;Action & Adventure : 0.011284134506883321\n",
      "Books & Reference;Education : 0.011284134506883321\n",
      "Art & Design;Pretend Play : 0.011284134506883321\n",
      "Art & Design;Action & Adventure : 0.011284134506883321\n",
      "Arcade;Pretend Play : 0.011284134506883321\n",
      "Adventure;Education : 0.011284134506883321\n",
      "\n",
      "\n",
      "The frequency table for the most common categories in the Google Play Store is:\n",
      "\n",
      "FAMILY : 18.934777702550214\n",
      "GAME : 9.693071541412774\n",
      "TOOLS : 8.451816745655607\n",
      "BUSINESS : 4.5926427443015125\n",
      "LIFESTYLE : 3.9043105393816293\n",
      "PRODUCTIVITY : 3.8930264048747465\n",
      "FINANCE : 3.7011961182577298\n",
      "MEDICAL : 3.5206499661475967\n",
      "SPORTS : 3.39652448657188\n",
      "PERSONALIZATION : 3.3175355450236967\n",
      "COMMUNICATION : 3.238546603475513\n",
      "HEALTH_AND_FITNESS : 3.080568720379147\n",
      "PHOTOGRAPHY : 2.945159106296547\n",
      "NEWS_AND_MAGAZINES : 2.798465357707064\n",
      "SOCIAL : 2.663055743624464\n",
      "TRAVEL_AND_LOCAL : 2.335815842924848\n",
      "SHOPPING : 2.2455427668697814\n",
      "BOOKS_AND_REFERENCE : 2.143985556307831\n",
      "DATING : 1.8618821936357481\n",
      "VIDEO_PLAYERS : 1.7941773865944481\n",
      "MAPS_AND_NAVIGATION : 1.399232678853532\n",
      "FOOD_AND_DRINK : 1.2412547957571656\n",
      "EDUCATION : 1.1735499887158656\n",
      "ENTERTAINMENT : 0.9591514330850823\n",
      "LIBRARIES_AND_DEMO : 0.9365831640713158\n",
      "AUTO_AND_VEHICLES : 0.9252990295644324\n",
      "HOUSE_AND_HOME : 0.8237418190024826\n",
      "WEATHER : 0.8011735499887158\n",
      "EVENTS : 0.7109004739336493\n",
      "PARENTING : 0.6544798013992327\n",
      "ART_AND_DESIGN : 0.6431956668923494\n",
      "COMICS : 0.6206273978785828\n",
      "BEAUTY : 0.598059128864816\n",
      "\n",
      "\n"
     ]
    }
   ],
   "source": [
    "# Completion of frequency tables with percentages #\n",
    "\n",
    "def freq_table(dataset, index_column):\n",
    "    freq_table = {}\n",
    "    for row in dataset:\n",
    "        key = row[index_column]\n",
    "        if key in freq_table:\n",
    "            freq_table[key] += 1\n",
    "        elif key not in freq_table:\n",
    "            freq_table[key] = 1\n",
    "    total_apps = len(dataset)\n",
    "    for key in freq_table:\n",
    "        proportion = freq_table[key] / total_apps\n",
    "        percentage = proportion * 100\n",
    "        freq_table[key] = percentage\n",
    "    return freq_table\n",
    "\n",
    "# Display the frequency tables #\n",
    "\n",
    "def display_table(dataset, index_column):\n",
    "    table = freq_table(dataset, index_column)\n",
    "    table_display = []\n",
    "    for key in table:\n",
    "        key_val_as_tuple = (table[key], key)\n",
    "        table_display.append(key_val_as_tuple)\n",
    "\n",
    "    table_sorted = sorted(table_display, reverse = True) # Return a new sorted list from the items in iterable.\n",
    "    for entry in table_sorted:\n",
    "        print(entry[1], ':', entry[0])\n",
    "        \n",
    "\n",
    "print('The frequency table for the most common genres in the Apple Store is:' + '\\n')\n",
    "display_table(apps_data_apple_final, 11)\n",
    "print('\\n')\n",
    "print('The frequency table for the most common genres in the Google Play Store is:' + '\\n')\n",
    "display_table(apps_data_google_final, 9)\n",
    "print('\\n')\n",
    "print('The frequency table for the most common categories in the Google Play Store is:' + '\\n')\n",
    "display_table(apps_data_google_final, 1)\n",
    "print('\\n')"
   ]
  },
  {
   "cell_type": "markdown",
   "metadata": {},
   "source": [
    "We can see that among the free English apps, more than a half (58.16%) are games. Entertainment apps are close to 8%, followed by photo and video apps, which are close to 5%. Only 3.66% of the apps are designed for education, followed by social networking apps which amount for 3.29% of the apps in our data set.\n",
    "\n",
    "The general impression is that App Store (at least the part containing free English apps) is dominated by apps that are designed for fun (games, entertainment, photo and video, social networking, sports, music, etc.), while apps with practical purposes (education, shopping, utilities, productivity, lifestyle, etc.) are more rare. However, the fact that fun apps are the most numerous doesn't also imply that they also have the greatest number of users — the demand might not be the same as the offer.\n",
    "\n",
    "The landscape seems significantly different on Google Play: there are not that many apps designed for fun, and it seems that a good number of apps are designed for practical purposes (family, tools, business, lifestyle, productivity, etc.). However, if we investigate this further, we can see that the family category (which accounts for almost 19% of the apps) means mostly games for kids.\n",
    "\n",
    "The difference between the Genres and the Category columns is not crystal clear, but one thing we can notice is that the Genres column is much more granular (it has more categories). We're only looking for the bigger picture at the moment, so we'll only work with the Category column moving forward.\n",
    "\n",
    "Up to this point, we found that the App Store is dominated by apps designed for fun, while Google Play shows a more balanced landscape of both practical and for-fun apps. Now we'd like to get an idea about the kind of apps that have most users."
   ]
  },
  {
   "cell_type": "markdown",
   "metadata": {},
   "source": [
    "#### Most Popular Apps by Genre on the App Store\n",
    "\n",
    "One way to find out what genres are the most popular (have the most users) is to calculate the average number of installs for each app genre.\n",
    "\n",
    "This information is missing for the App Store data set. As a workaround, we'll take the total number of user ratings as a proxy, which we can find in the rating_count_tot app."
   ]
  },
  {
   "cell_type": "code",
   "execution_count": 23,
   "metadata": {
    "collapsed": false
   },
   "outputs": [
    {
     "name": "stdout",
     "output_type": "stream",
     "text": [
      "The most popular apps by genre on the Apple Store are:\n",
      "\n",
      "App Genre:  Business - User ratings:  7491.117647058823\n",
      "App Genre:  Catalogs - User ratings:  4004.0\n",
      "App Genre:  Utilities - User ratings:  18684.456790123455\n",
      "App Genre:  Weather - User ratings:  52279.892857142855\n",
      "App Genre:  Music - User ratings:  57326.530303030304\n",
      "App Genre:  News - User ratings:  21248.023255813954\n",
      "App Genre:  Finance - User ratings:  31467.944444444445\n",
      "App Genre:  Social Networking - User ratings:  71548.34905660378\n",
      "App Genre:  Lifestyle - User ratings:  16485.764705882353\n",
      "App Genre:  Shopping - User ratings:  26919.690476190477\n",
      "App Genre:  Education - User ratings:  7003.983050847458\n",
      "App Genre:  Food & Drink - User ratings:  33333.92307692308\n",
      "App Genre:  Photo & Video - User ratings:  28441.54375\n",
      "App Genre:  Sports - User ratings:  23008.898550724636\n",
      "App Genre:  Travel - User ratings:  28243.8\n",
      "App Genre:  Games - User ratings:  22788.6696905016\n",
      "App Genre:  Productivity - User ratings:  21028.410714285714\n",
      "App Genre:  Entertainment - User ratings:  14029.830708661417\n",
      "App Genre:  Reference - User ratings:  74942.11111111111\n",
      "App Genre:  Health & Fitness - User ratings:  23298.015384615384\n",
      "App Genre:  Medical - User ratings:  612.0\n",
      "App Genre:  Navigation - User ratings:  86090.33333333333\n",
      "App Genre:  Book - User ratings:  39758.5\n"
     ]
    }
   ],
   "source": [
    "# Calculation of the average number of user ratings per app genre on the Apple Store #\n",
    "\n",
    "def average_number(dataset, index_unique, index_search):\n",
    "    table_unique = freq_table(dataset, index_unique)\n",
    "    for genre in table_unique:\n",
    "        total = 0 # sum of user ratings (number of ratings, not the actual ratings)\n",
    "        len_genre = 0 # number of apps\n",
    "        for row in dataset:\n",
    "            genre_app = row[index_unique]\n",
    "            if genre_app == genre: \n",
    "                total += float(row[index_search])\n",
    "                len_genre += 1\n",
    "        average_number = total / len_genre\n",
    "        print('App Genre: ', genre, '- User ratings: ', average_number)\n",
    "        \n",
    "print('The most popular apps by genre on the Apple Store are:' + '\\n')\n",
    "average_number(apps_data_apple_final, 11, 5)"
   ]
  },
  {
   "cell_type": "markdown",
   "metadata": {},
   "source": [
    "On average, navigation apps have the highest number of user reviews, but this figure is heavily influenced by Waze and Google Maps, which have close to half a million user reviews together.\n",
    "\n",
    "The same pattern applies to social networking apps, where the average number is heavily influenced by a few giants like Facebook, Pinterest, Skype, etc. Same applies to music apps, where a few big players like Pandora, Spotify, and Shazam heavily influence the average number.\n",
    "\n",
    "Our aim is to find popular genres, but navigation, social networking or music apps might seem more popular than they really are. The average number of ratings seem to be skewed by very few apps which have hundreds of thousands of user ratings, while the other apps may struggle to get past the 10,000 threshold. We could get a better picture by removing these extremely popular apps for each genre and then rework the averages, but we'll leave this level of detail for later.\n",
    "\n",
    "Reference apps have 74,942 user ratings on average, but it's actually the Bible and Dictionary.com which skew up the average rating. However, this niche seems to show some potential. One thing we could do is take another popular book and turn it into an app where we could add different features besides the raw version of the book. This might include daily quotes from the book, an audio version of the book, quizzes about the book, etc. On top of that, we could also embed a dictionary within the app, so users don't need to exit our app to look up words in an external app.\n",
    "\n",
    "This idea seems to fit well with the fact that the App Store is dominated by for-fun apps. This suggests the market might be a bit saturated with for-fun apps, which means a practical app might have more of a chance to stand out among the huge number of apps on the App Store.\n",
    "\n",
    "Other genres that seem popular include weather, book, food and drink, or finance. The book genre seem to overlap a bit with the app idea we described above, but the other genres don't seem too interesting to us:\n",
    "\n",
    "- Weather apps: people generally don't spend too much time in-app, and the chances of making profit from in-app adds are low. Also, getting reliable live weather data may require us to connect our apps to non-free APIs.\n",
    "- Food and drink: examples here include Starbucks, Dunkin' Donuts, McDonald's, etc. So making a popular food and drink app requires actual cooking and a delivery service, which is outside the scope of our company.\n",
    "- Finance apps: these apps involve banking, paying bills, money transfer, etc. Building a finance app requires domain knowledge, and we don't want to hire a finance expert just to build an app."
   ]
  },
  {
   "cell_type": "markdown",
   "metadata": {},
   "source": [
    "#### Most Popular Apps by Genre on Google Play\n",
    "\n",
    "We have data about the number of installs for the Google Play market, so we should be able to get a clearer picture about genre popularity. However, the install numbers don't seem precise enough — we can see that most values are open-ended (100+, 1,000+, 5,000+, etc.). For instance, we don't know whether an app with 100,000+ installs has 100,000 installs, 200,000, or 350,000. \n",
    "\n",
    "However, we don't need very precise data for our purposes — we only want to find out which app genres attract the most users, and we don't need perfect precision with respect to the number of users. We're going to leave the numbers as they are, which means that we'll consider that an app with 100,000+ installs has 100,000 installs, and an app with 1,000,000+ installs has 1,000,000 installs, and so on."
   ]
  },
  {
   "cell_type": "code",
   "execution_count": 24,
   "metadata": {
    "collapsed": false
   },
   "outputs": [
    {
     "name": "stdout",
     "output_type": "stream",
     "text": [
      "The most popular apps by genre on the Google Play Store are:\n",
      "\n",
      "App Genre:  EDUCATION - Number of installs:  1820673.076923077\n",
      "App Genre:  COMMUNICATION - Number of installs:  38456119.167247385\n",
      "App Genre:  PERSONALIZATION - Number of installs:  5201482.6122448975\n",
      "App Genre:  ENTERTAINMENT - Number of installs:  11640705.88235294\n",
      "App Genre:  DATING - Number of installs:  854028.8303030303\n",
      "App Genre:  MEDICAL - Number of installs:  120616.48717948717\n",
      "App Genre:  TRAVEL_AND_LOCAL - Number of installs:  13984077.710144928\n",
      "App Genre:  SPORTS - Number of installs:  3638640.1428571427\n",
      "App Genre:  FAMILY - Number of installs:  3694276.334922527\n",
      "App Genre:  FOOD_AND_DRINK - Number of installs:  1924897.7363636363\n",
      "App Genre:  SHOPPING - Number of installs:  7036877.311557789\n",
      "App Genre:  LIBRARIES_AND_DEMO - Number of installs:  638503.734939759\n",
      "App Genre:  GAME - Number of installs:  15560965.599534342\n",
      "App Genre:  PARENTING - Number of installs:  542603.6206896552\n",
      "App Genre:  HEALTH_AND_FITNESS - Number of installs:  4188821.9853479853\n",
      "App Genre:  BEAUTY - Number of installs:  513151.88679245283\n",
      "App Genre:  BUSINESS - Number of installs:  1712290.1474201474\n",
      "App Genre:  ART_AND_DESIGN - Number of installs:  1986335.0877192982\n",
      "App Genre:  PRODUCTIVITY - Number of installs:  16787331.344927534\n",
      "App Genre:  NEWS_AND_MAGAZINES - Number of installs:  9549178.467741935\n",
      "App Genre:  PHOTOGRAPHY - Number of installs:  17805627.643678162\n",
      "App Genre:  HOUSE_AND_HOME - Number of installs:  1331540.5616438356\n",
      "App Genre:  AUTO_AND_VEHICLES - Number of installs:  647317.8170731707\n",
      "App Genre:  TOOLS - Number of installs:  10682301.033377837\n",
      "App Genre:  SOCIAL - Number of installs:  23253652.127118643\n",
      "App Genre:  WEATHER - Number of installs:  5074486.197183099\n",
      "App Genre:  LIFESTYLE - Number of installs:  1437816.2687861272\n",
      "App Genre:  EVENTS - Number of installs:  253542.22222222222\n",
      "App Genre:  VIDEO_PLAYERS - Number of installs:  24727872.452830188\n",
      "App Genre:  FINANCE - Number of installs:  1387692.475609756\n",
      "App Genre:  COMICS - Number of installs:  817657.2727272727\n",
      "App Genre:  BOOKS_AND_REFERENCE - Number of installs:  8767811.894736841\n",
      "App Genre:  MAPS_AND_NAVIGATION - Number of installs:  4056941.7741935486\n"
     ]
    }
   ],
   "source": [
    "# Calculation of the average number of installs per app genre on the Google Play Store #\n",
    "\n",
    "def installs_number(dataset, index_unique, index_search):\n",
    "    table_unique = freq_table(dataset, index_unique)\n",
    "    for category in table_unique:\n",
    "        total = 0 # sum of installs specific to each genre\n",
    "        len_category = 0 # number of apps specific to each genre\n",
    "        for row in dataset:\n",
    "            category_app = row[index_unique]\n",
    "            if category_app == category: \n",
    "                n_installs = row[index_search]\n",
    "                n_installs = n_installs.replace('+', '')\n",
    "                n_installs = n_installs.replace(',', '')\n",
    "                total += float(n_installs)\n",
    "                len_category += 1\n",
    "        average_number = total / len_category\n",
    "        print('App Genre: ', category, '- Number of installs: ', average_number)\n",
    "        \n",
    "print('The most popular apps by genre on the Google Play Store are:' + '\\n')\n",
    "installs_number(apps_data_google_final, 1, 5)"
   ]
  },
  {
   "cell_type": "markdown",
   "metadata": {},
   "source": [
    "On average, communication apps have the most installs: 38,456,119. This number is heavily skewed up by a few apps that have over one billion installs (WhatsApp, Facebook Messenger, Skype, Google Chrome, Gmail, and Hangouts), and a few others with over 100 and 500 million installs. If we removed all the communication apps that have over 100 million installs, the average would be reduced roughly ten times.\n",
    "\n",
    "We see the same pattern for the video players category, which is the runner-up with 24,727,872 installs. The market is dominated by apps like Youtube, Google Play Movies & TV, or MX Player. The pattern is repeated for social apps (where we have giants like Facebook, Instagram, Google+, etc.), photography apps (Google Photos and other popular photo editors), or productivity apps (Microsoft Word, Dropbox, Google Calendar, Evernote, etc.).\n",
    "\n",
    "Again, the main concern is that these app genres might seem more popular than they really are. Moreover, these niches seem to be dominated by a few giants who are hard to compete against.\n",
    "\n",
    "The game genre seems pretty popular, but previously we found out this part of the market seems a bit saturated, so we'd like to come up with a different app recommendation if possible.\n",
    "\n",
    "The books and reference genre looks fairly popular as well, with an average number of installs of 8,767,811. It's interesting to explore this in more depth, since we found this genre has some potential to work well on the App Store, and our aim is to recommend an app genre that shows potential for being profitable on both the App Store and Google Play."
   ]
  },
  {
   "cell_type": "markdown",
   "metadata": {},
   "source": [
    "### Conclusions\n",
    "\n",
    "In this project, we analyzed data about the App Store and Google Play mobile apps with the goal of recommending an app profile that can be profitable for both markets.\n",
    "\n",
    "We concluded that taking a popular book (perhaps a more recent book) and turning it into an app could be profitable for both the Google Play and the App Store markets. The markets are already full of libraries, so we need to add some special features besides the raw version of the book. This might include daily quotes from the book, an audio version of the book, quizzes on the book, a forum where people can discuss the book, etc."
   ]
  }
 ],
 "metadata": {
  "kernelspec": {
   "display_name": "Python 3",
   "language": "python",
   "name": "python3"
  },
  "language_info": {
   "codemirror_mode": {
    "name": "ipython",
    "version": 3
   },
   "file_extension": ".py",
   "mimetype": "text/x-python",
   "name": "python",
   "nbconvert_exporter": "python",
   "pygments_lexer": "ipython3",
   "version": "3.4.3"
  }
 },
 "nbformat": 4,
 "nbformat_minor": 2
}
